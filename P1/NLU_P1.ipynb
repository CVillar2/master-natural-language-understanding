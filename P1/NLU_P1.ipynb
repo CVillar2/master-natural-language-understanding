{
  "cells": [
    {
      "cell_type": "markdown",
      "metadata": {},
      "source": [
        "Check Python version and install requirements."
      ]
    },
    {
      "cell_type": "code",
      "execution_count": null,
      "metadata": {
        "id": "esDHapCXob2N"
      },
      "outputs": [],
      "source": [
        "!python --version\n",
        "!pip install -r requirements.txt"
      ]
    },
    {
      "cell_type": "markdown",
      "metadata": {},
      "source": [
        "See the command line parameters help."
      ]
    },
    {
      "cell_type": "code",
      "execution_count": null,
      "metadata": {
        "id": "4UUD1tyinL9G"
      },
      "outputs": [],
      "source": [
        "!python main.py -h"
      ]
    },
    {
      "cell_type": "markdown",
      "metadata": {},
      "source": [
        "Train, validate, evaluate the model with the test set and predict some of the sentences of the training set. By default, the base model is used and the English dataset (`UD_English_EWT` from Universal Dependencies). "
      ]
    },
    {
      "cell_type": "code",
      "execution_count": null,
      "metadata": {
        "id": "ZyVzy8gdn5te"
      },
      "outputs": [],
      "source": [
        "!python main.py -train -validate -eval -predict -verbose"
      ]
    },
    {
      "cell_type": "markdown",
      "metadata": {},
      "source": [
        "Train, validate and evaluate with another dataset from the preconfigured ones."
      ]
    },
    {
      "cell_type": "code",
      "execution_count": null,
      "metadata": {},
      "outputs": [],
      "source": [
        "!python main.py -train -validate -eval -dataset UD_Spanish_AnCora"
      ]
    },
    {
      "cell_type": "markdown",
      "metadata": {},
      "source": [
        "Tag the provided sentence after training the model."
      ]
    },
    {
      "cell_type": "code",
      "execution_count": null,
      "metadata": {},
      "outputs": [],
      "source": [
        "!python main.py -train -tag -sentence \"The tall person walks down the street.\""
      ]
    },
    {
      "cell_type": "markdown",
      "metadata": {},
      "source": [
        "Train, validate and test with the character embedding model."
      ]
    },
    {
      "cell_type": "code",
      "execution_count": null,
      "metadata": {},
      "outputs": [],
      "source": [
        "!python main.py -train -validate -eval -model char"
      ]
    }
  ],
  "metadata": {
    "accelerator": "GPU",
    "colab": {
      "collapsed_sections": [],
      "provenance": []
    },
    "gpuClass": "standard",
    "kernelspec": {
      "display_name": "Python 3",
      "name": "python3"
    },
    "language_info": {
      "name": "python"
    }
  },
  "nbformat": 4,
  "nbformat_minor": 0
}
